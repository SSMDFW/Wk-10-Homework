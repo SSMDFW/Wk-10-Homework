{
 "cells": [
  {
   "cell_type": "markdown",
   "metadata": {},
   "source": [
    "# Surfs Up!\n",
    "Congratulations! You've decided to treat yourself to a long holiday vacation in Honolulu, Hawaii! \n",
    "To help with your trip planning, you need to do some climate analysis on the area. \n",
    "The following outlines what you need to do."
   ]
  },
  {
   "cell_type": "markdown",
   "metadata": {},
   "source": [
    "## Step 1 - Climate Analysis and Exploration\n",
    "\n",
    "To begin, use Python and SQLAlchemy to do basic climate analysis and data exploration of your climate database. \n",
    "All of the following analysis should be completed using SQLAlchemy ORM queries, Pandas, and Matplotlib.\n",
    "\n",
    "\n",
    "Use the provided starter notebook and hawaii.sqlite files to complete your climate analysis and data exploration.\n",
    "Choose a start date and end date for your trip. Make sure that your vacation range is approximately 3-15 days total.\n",
    "Use SQLAlchemy create_engine to connect to your sqlite database.\n",
    "Use SQLAlchemy automap_base() to reflect your tables into classes and save a reference to those classes \n",
    "called Station and Measurement."
   ]
  },
  {
   "cell_type": "markdown",
   "metadata": {},
   "source": [
    "## Choose a start date and end date for your trip. Make sure that your vacation range is approximately 3-15 days total."
   ]
  },
  {
   "cell_type": "markdown",
   "metadata": {},
   "source": [
    "###### I choose 4/09/2018 - 04/15/2018"
   ]
  },
  {
   "cell_type": "code",
   "execution_count": 1,
   "metadata": {},
   "outputs": [],
   "source": [
    "my_start='2018-04-09'\n",
    "my_end='2018-04-15'"
   ]
  },
  {
   "cell_type": "code",
   "execution_count": 2,
   "metadata": {},
   "outputs": [],
   "source": [
    "%matplotlib inline\n",
    "from matplotlib import style\n",
    "style.use('fivethirtyeight')\n",
    "import matplotlib.pyplot as plt\n",
    "import numpy as np\n",
    "import pandas as pd\n",
    "import datetime as dt"
   ]
  },
  {
   "cell_type": "markdown",
   "metadata": {},
   "source": [
    "# Reflect Tables into SQLAlchemy ORM"
   ]
  },
  {
   "cell_type": "code",
   "execution_count": 3,
   "metadata": {},
   "outputs": [],
   "source": [
    "# Python SQL toolkit and Object Relational Mapper\n",
    "import sqlalchemy\n",
    "from sqlalchemy.ext.automap import automap_base\n",
    "from sqlalchemy.orm import Session\n",
    "from sqlalchemy import create_engine, func, inspect, distinct, extract"
   ]
  },
  {
   "cell_type": "code",
   "execution_count": 4,
   "metadata": {},
   "outputs": [],
   "source": [
    "engine = create_engine(\"sqlite:///hawaii.sqlite\")"
   ]
  },
  {
   "cell_type": "code",
   "execution_count": 5,
   "metadata": {},
   "outputs": [],
   "source": [
    "# reflect an existing database into a new model\n",
    "Base = automap_base()\n",
    "# reflect the tables\n",
    "Base.prepare(engine, reflect=True)"
   ]
  },
  {
   "cell_type": "code",
   "execution_count": 6,
   "metadata": {},
   "outputs": [
    {
     "data": {
      "text/plain": [
       "['station', 'measurement']"
      ]
     },
     "execution_count": 6,
     "metadata": {},
     "output_type": "execute_result"
    }
   ],
   "source": [
    "# We can view all of the classes that automap found\n",
    "Base.classes.keys()"
   ]
  },
  {
   "cell_type": "code",
   "execution_count": 7,
   "metadata": {},
   "outputs": [],
   "source": [
    "# Save references to each table\n",
    "Measurement = Base.classes.measurement\n",
    "Station = Base.classes.station"
   ]
  },
  {
   "cell_type": "code",
   "execution_count": 8,
   "metadata": {},
   "outputs": [],
   "source": [
    "# Create our session (link) from Python to the DB\n",
    "session = Session(engine)"
   ]
  },
  {
   "cell_type": "code",
   "execution_count": 9,
   "metadata": {},
   "outputs": [
    {
     "name": "stdout",
     "output_type": "stream",
     "text": [
      "(u'id', INTEGER())\n",
      "(u'station', TEXT())\n",
      "(u'date', TEXT())\n",
      "(u'prcp', FLOAT())\n",
      "(u'tobs', FLOAT())\n",
      "(u'id', INTEGER())\n",
      "(u'station', TEXT())\n",
      "(u'name', TEXT())\n",
      "(u'latitude', FLOAT())\n",
      "(u'longitude', FLOAT())\n",
      "(u'elevation', FLOAT())\n"
     ]
    }
   ],
   "source": [
    "inspector = inspect(engine)\n",
    "columns = inspector.get_columns('measurement')\n",
    "for c in columns:\n",
    "    print(c['name'], c[\"type\"])\n",
    "columns = inspector.get_columns('station')\n",
    "for p in columns:\n",
    "    print(p['name'], p[\"type\"])"
   ]
  },
  {
   "cell_type": "markdown",
   "metadata": {},
   "source": [
    "# Exploratory Climate Analysis"
   ]
  },
  {
   "cell_type": "markdown",
   "metadata": {},
   "source": [
    "### Precipitation Analysis\n",
    "\n",
    "\n",
    "Design a query to retrieve the last 12 months of precipitation data.\n",
    "Select only the date and prcp values.\n",
    "Load the query results into a Pandas DataFrame and set the index to the date column.\n",
    "Sort the DataFrame values by date.\n",
    "Plot the results using the DataFrame plot method."
   ]
  },
  {
   "cell_type": "code",
   "execution_count": 10,
   "metadata": {},
   "outputs": [
    {
     "data": {
      "text/html": [
       "<div>\n",
       "<style scoped>\n",
       "    .dataframe tbody tr th:only-of-type {\n",
       "        vertical-align: middle;\n",
       "    }\n",
       "\n",
       "    .dataframe tbody tr th {\n",
       "        vertical-align: top;\n",
       "    }\n",
       "\n",
       "    .dataframe thead th {\n",
       "        text-align: right;\n",
       "    }\n",
       "</style>\n",
       "<table border=\"1\" class=\"dataframe\">\n",
       "  <thead>\n",
       "    <tr style=\"text-align: right;\">\n",
       "      <th></th>\n",
       "      <th>date</th>\n",
       "      <th>prcp</th>\n",
       "    </tr>\n",
       "  </thead>\n",
       "  <tbody>\n",
       "    <tr>\n",
       "      <th>0</th>\n",
       "      <td>2016-08-24</td>\n",
       "      <td>0.08</td>\n",
       "    </tr>\n",
       "    <tr>\n",
       "      <th>1</th>\n",
       "      <td>2016-08-24</td>\n",
       "      <td>2.15</td>\n",
       "    </tr>\n",
       "    <tr>\n",
       "      <th>2</th>\n",
       "      <td>2016-08-24</td>\n",
       "      <td>2.28</td>\n",
       "    </tr>\n",
       "    <tr>\n",
       "      <th>3</th>\n",
       "      <td>2016-08-24</td>\n",
       "      <td>NaN</td>\n",
       "    </tr>\n",
       "    <tr>\n",
       "      <th>4</th>\n",
       "      <td>2016-08-24</td>\n",
       "      <td>1.22</td>\n",
       "    </tr>\n",
       "  </tbody>\n",
       "</table>\n",
       "</div>"
      ],
      "text/plain": [
       "         date  prcp\n",
       "0  2016-08-24  0.08\n",
       "1  2016-08-24  2.15\n",
       "2  2016-08-24  2.28\n",
       "3  2016-08-24   NaN\n",
       "4  2016-08-24  1.22"
      ]
     },
     "execution_count": 10,
     "metadata": {},
     "output_type": "execute_result"
    }
   ],
   "source": [
    "# Design a query to retrieve the last 12 months of precipitation data and plot the results\n",
    "# Calculate the date 1 year ago from the last data point in the database\n",
    "\n",
    "ed_date = session.query(func.max(Measurement.date)).all()\n",
    "end_date = ed_date[0][0]\n",
    "\n",
    "# Perform a query to retrieve the data and precipitation scores\n",
    "start = dt.datetime.strftime(dt.datetime.strptime(end_date, '%Y-%m-%d') - dt.timedelta(days=365), '%Y-%m-%d')\n",
    "last12 = session.query(Measurement.date,Measurement.prcp).\\\n",
    "        filter(Measurement.date > start).order_by(Measurement.date).all()\n",
    "# Save the query results as a Pandas DataFrame and set the index to the date column\n",
    "prcp_df=pd.DataFrame(last12)\n",
    "prcp_df.set_index('date').head()\n",
    "\n",
    "# Sort the dataframe by date\n",
    "prcp_df = prcp_df.sort_values(by=['date'])\n",
    "prcp_df.head()"
   ]
  },
  {
   "cell_type": "code",
   "execution_count": 11,
   "metadata": {},
   "outputs": [
    {
     "data": {
      "image/png": "[encoded data removed]",
      "text/plain": [
       "<Figure size 432x288 with 1 Axes>"
      ]
     },
     "metadata": {
      "needs_background": "light"
     },
     "output_type": "display_data"
    }
   ],
   "source": [
    "# Use Pandas Plotting with Matplotlib to plot the data\n",
    "\n",
    "prcp_df.plot('date', 'prcp')\n",
    "plt.xlabel(\"date\")\n",
    "plt.ylabel(\"Rain - Inches\")\n",
    "plt.legend([\"Precipitation\"],loc=9)\n",
    "plt.xticks(rotation=90)\n",
    "plt.tight_layout()\n",
    "plt.show()\n"
   ]
  },
  {
   "cell_type": "code",
   "execution_count": 12,
   "metadata": {},
   "outputs": [
    {
     "data": {
      "text/html": [
       "<div>\n",
       "<style scoped>\n",
       "    .dataframe tbody tr th:only-of-type {\n",
       "        vertical-align: middle;\n",
       "    }\n",
       "\n",
       "    .dataframe tbody tr th {\n",
       "        vertical-align: top;\n",
       "    }\n",
       "\n",
       "    .dataframe thead th {\n",
       "        text-align: right;\n",
       "    }\n",
       "</style>\n",
       "<table border=\"1\" class=\"dataframe\">\n",
       "  <thead>\n",
       "    <tr style=\"text-align: right;\">\n",
       "      <th></th>\n",
       "      <th>prcp</th>\n",
       "    </tr>\n",
       "  </thead>\n",
       "  <tbody>\n",
       "    <tr>\n",
       "      <th>count</th>\n",
       "      <td>2015.000000</td>\n",
       "    </tr>\n",
       "    <tr>\n",
       "      <th>mean</th>\n",
       "      <td>0.176462</td>\n",
       "    </tr>\n",
       "    <tr>\n",
       "      <th>std</th>\n",
       "      <td>0.460288</td>\n",
       "    </tr>\n",
       "    <tr>\n",
       "      <th>min</th>\n",
       "      <td>0.000000</td>\n",
       "    </tr>\n",
       "    <tr>\n",
       "      <th>25%</th>\n",
       "      <td>0.000000</td>\n",
       "    </tr>\n",
       "    <tr>\n",
       "      <th>50%</th>\n",
       "      <td>0.020000</td>\n",
       "    </tr>\n",
       "    <tr>\n",
       "      <th>75%</th>\n",
       "      <td>0.130000</td>\n",
       "    </tr>\n",
       "    <tr>\n",
       "      <th>max</th>\n",
       "      <td>6.700000</td>\n",
       "    </tr>\n",
       "  </tbody>\n",
       "</table>\n",
       "</div>"
      ],
      "text/plain": [
       "              prcp\n",
       "count  2015.000000\n",
       "mean      0.176462\n",
       "std       0.460288\n",
       "min       0.000000\n",
       "25%       0.000000\n",
       "50%       0.020000\n",
       "75%       0.130000\n",
       "max       6.700000"
      ]
     },
     "execution_count": 12,
     "metadata": {},
     "output_type": "execute_result"
    }
   ],
   "source": [
    "# Use Pandas to calcualte the summary statistics for the precipitation data\n",
    "prcp_df.describe()"
   ]
  },
  {
   "cell_type": "markdown",
   "metadata": {},
   "source": [
    "##### Station Analysis\n",
    "\n",
    "Design a query to calculate the total number of stations.\n",
    "Design a query to find the most active stations.\n",
    "\n",
    "List the stations and observation counts in descending order.\n",
    "Which station has the highest number of observations?\n",
    "Hint: You may need to use functions such as func.min, func.max, func.avg, and func.count in your queries.\n",
    "\n",
    "\n",
    "Design a query to retrieve the last 12 months of temperature observation data (tobs).\n",
    "\n",
    "Filter by the station with the highest number of observations.\n",
    "Plot the results as a histogram with bins=12."
   ]
  },
  {
   "cell_type": "code",
   "execution_count": 16,
   "metadata": {},
   "outputs": [
    {
     "name": "stdout",
     "output_type": "stream",
     "text": [
      "There are 9 stations.\n"
     ]
    }
   ],
   "source": [
    "# Design a query to show how many stations are available in this dataset?\n",
    "sts= session.query(func.count(distinct(Measurement.station))).all()\n",
    "stations = sts[0][0]\n",
    "print(\"There are \"+str(stations)+\" stations.\")"
   ]
  },
  {
   "cell_type": "code",
   "execution_count": null,
   "metadata": {},
   "outputs": [],
   "source": []
  },
  {
   "cell_type": "code",
   "execution_count": 18,
   "metadata": {},
   "outputs": [
    {
     "data": {
      "text/plain": [
       "[(u'USC00519281', 2772),\n",
       " (u'USC00519397', 2724),\n",
       " (u'USC00513117', 2709),\n",
       " (u'USC00519523', 2669),\n",
       " (u'USC00516128', 2612),\n",
       " (u'USC00514830', 2202),\n",
       " (u'USC00511918', 1979),\n",
       " (u'USC00517948', 1372),\n",
       " (u'USC00518838', 511)]"
      ]
     },
     "execution_count": 18,
     "metadata": {},
     "output_type": "execute_result"
    }
   ],
   "source": [
    "# What are the most active stations? (i.e. what stations have the most rows)?\n",
    "# List the stations and the counts in descending order.\n",
    "active = session.query(Measurement.station,func.count(Measurement.tobs).label('count')).\\\n",
    "        group_by(Measurement.station).order_by(func.count(Measurement.tobs).desc()).all()\n",
    "active\n"
   ]
  },
  {
   "cell_type": "code",
   "execution_count": 19,
   "metadata": {},
   "outputs": [
    {
     "data": {
      "image/png": "[encoded data removed]",
      "text/plain": [
       "<Figure size 432x288 with 1 Axes>"
      ]
     },
     "metadata": {
      "needs_background": "light"
     },
     "output_type": "display_data"
    }
   ],
   "source": [
    "# Choose the station with the highest number of temperature observations.\n",
    "# Query the last 12 months of temperature observation data for this station and plot the results as a histogram\n",
    "most_active =  active[0][0]\n",
    "\n",
    "last12ma = session.query(Measurement.date,Measurement.tobs).\\\n",
    "        filter(Measurement.date > start).filter(Measurement.station==most_active).order_by(Measurement.date).all()\n",
    "tobs_df=pd.DataFrame(last12ma)\n",
    "tobs_df.set_index('date')\n",
    "hist = tobs_df.hist(bins=12)\n",
    "plt.ylabel(\"Frequency\")\n",
    "plt.title('')\n",
    "plt.legend([\"Precipitation\"],loc=1)\n",
    "plt.show()"
   ]
  },
  {
   "cell_type": "code",
   "execution_count": 20,
   "metadata": {},
   "outputs": [
    {
     "data": {
      "text/plain": [
       "[(u'USC00519281', 54.0, 85.0, 71.66378066378067)]"
      ]
     },
     "execution_count": 20,
     "metadata": {},
     "output_type": "execute_result"
    }
   ],
   "source": [
    "# Using the station id from the previous query, calculate the lowest temperature recorded, \n",
    "# highest temperature recorded, and average temperature most active station?\n",
    "most_active = active[0][0]    \n",
    "cal_mst= session.query(Measurement.station, func.min(Measurement.tobs).label('LowTemp'),\\\n",
    "                       func.max(Measurement.tobs).label('HiTemp'),\\\n",
    "                       func.avg(Measurement.tobs).label('AvgTemp')).\\\n",
    "                       filter(Measurement.station==most_active).all()\n",
    "cal_mst"
   ]
  },
  {
   "cell_type": "code",
   "execution_count": 21,
   "metadata": {},
   "outputs": [
    {
     "name": "stdout",
     "output_type": "stream",
     "text": [
      "[(62.0, 69.57142857142857, 74.0)]\n"
     ]
    }
   ],
   "source": [
    "# This function called `calc_temps` will accept start date and end date in the format '%Y-%m-%d' \n",
    "# and return the minimum, average, and maximum temperatures for that range of dates\n",
    "def calc_temps(start_date, end_date):\n",
    "    \"\"\"TMIN, TAVG, and TMAX for a list of dates.   \n",
    "    Args:\n",
    "        start_date (string): A date string in the format %Y-%m-%d\n",
    "        end_date (string): A date string in the format %Y-%m-%d        \n",
    "    Returns:\n",
    "        TMIN, TAVE, and TMAX\n",
    "    \"\"\"\n",
    "    sel = [func.min(Measurement.tobs), func.avg(Measurement.tobs), func.max(Measurement.tobs)]\n",
    "    return session.query(*sel).\\\n",
    "        filter(Measurement.date >= start_date).\\\n",
    "        filter(Measurement.date <= end_date).all()\n",
    "\n",
    "# function usage example\n",
    "print(calc_temps('2012-02-28', '2012-03-05'))"
   ]
  },
  {
   "cell_type": "code",
   "execution_count": 22,
   "metadata": {},
   "outputs": [
    {
     "name": "stdout",
     "output_type": "stream",
     "text": [
      "[(67.0, 74.38461538461539, 82.0)]\n"
     ]
    }
   ],
   "source": [
    "# Use your previous function `calc_temps` to calculate the tmin, tavg, and tmax \n",
    "# for your trip using the previous year's data for those same dates.\n",
    "py_start = (dt.datetime.strptime(my_start, '%Y-%m-%d')-dt.timedelta(days=365))\n",
    "py_end = (dt.datetime.strptime(my_end, '%Y-%m-%d')-dt.timedelta(days=365))\n",
    "\n",
    "lst_year = (calc_temps(py_start,py_end))\n",
    "print(lst_year)"
   ]
  },
  {
   "cell_type": "code",
   "execution_count": 23,
   "metadata": {},
   "outputs": [
    {
     "data": {
      "image/png": "[encoded data removed]",
      "text/plain": [
       "<Figure size 432x288 with 1 Axes>"
      ]
     },
     "metadata": {
      "needs_background": "light"
     },
     "output_type": "display_data"
    }
   ],
   "source": [
    "# Plot the results from your previous query as a bar chart. \n",
    "# Use \"Trip Avg Temp\" as your Title\n",
    "# Use the average temperature for the y value\n",
    "# Use the peak-to-peak (tmax-tmin) value as the y error bar (yerr)\n",
    "fig, ax = plt.subplots()\n",
    "x = range(len(lst_year))\n",
    "ax.boxplot(lst_year, patch_artist=True)\n",
    "ax.set_title('Trip Average Temperature From Prior Year')\n",
    "ax.set_ylabel(\"Temp\")\n",
    "ax.set_xlabel(\"Trip\")\n",
    "fig.tight_layout()\n",
    "plt.show()"
   ]
  },
  {
   "cell_type": "code",
   "execution_count": 24,
   "metadata": {
    "scrolled": true
   },
   "outputs": [
    {
     "name": "stdout",
     "output_type": "stream",
     "text": [
      "[(u'USC00516128', u'MANOA LYON ARBO 785.2, HI US', 21.3331, -157.8025, 152.4, 4.8500000000000005), (u'USC00519281', u'WAIHEE 837.5, HI US', 21.45167, -157.84888999999998, 32.9, 3.42), (u'USC00513117', u'KANEOHE 838.1, HI US', 21.4234, -157.8015, 14.6, 1.48), (u'USC00514830', u'KUALOA RANCH HEADQUARTERS 886.9, HI US', 21.5213, -157.8374, 7.0, 0.74), (u'USC00519523', u'WAIMANALO EXPERIMENTAL FARM, HI US', 21.33556, -157.71139, 19.5, 0.36), (u'USC00519397', u'WAIKIKI 717.2, HI US', 21.2716, -157.8168, 3.0, 0.27), (u'USC00517948', u'PEARL CITY, HI US', 21.3934, -157.9751, 11.9, None)]\n"
     ]
    }
   ],
   "source": [
    "# Calculate the total amount of rainfall per weather station for your trip dates using the previous year's matching dates.\n",
    "# Sort this in descending order by precipitation amount and list the station, name, latitude, longitude, \n",
    "#and elevation\n",
    "\n",
    "date_start = dt.datetime.strftime(py_start, '%Y-%m-%d')\n",
    "date_end = dt.datetime.strftime(py_end, '%Y-%m-%d')\n",
    "\n",
    "sel = [Station.station, \n",
    "       Station.name, \n",
    "       Station.latitude, \n",
    "       Station.longitude, \n",
    "       Station.elevation, \n",
    "       func.sum(Measurement.prcp)]\n",
    "result = session.query(*sel).\\\n",
    "    filter(Measurement.station == Station.station).\\\n",
    "    filter(Measurement.date >= date_start).\\\n",
    "    filter(Measurement.date <= date_end).\\\n",
    "    group_by(Station.name).order_by(func.sum(Measurement.prcp).desc()).all()\n",
    "print (result)"
   ]
  },
  {
   "cell_type": "markdown",
   "metadata": {},
   "source": [
    "## Optional Challenge Assignment"
   ]
  },
  {
   "cell_type": "code",
   "execution_count": 47,
   "metadata": {},
   "outputs": [
    {
     "name": "stdout",
     "output_type": "stream",
     "text": [
      "('01-01', 62.0, 69.15384615384616, 77.0)\n"
     ]
    }
   ],
   "source": [
    "# Create a query that will calculate the daily normals \n",
    "# (i.e. the averages for tmin, tmax, and tavg for all historic data matching a specific month and day)\n",
    "\n",
    "def daily_normals(date):\n",
    "    \"\"\"Daily Normals.    \n",
    "    Args:\n",
    "        date (str): A date string in the format '%m-%d'      \n",
    "    Returns:\n",
    "        A list of tuples containing the daily normals, tmin, tavg, and tmax\n",
    "    \n",
    "    \"\"\"    \n",
    "    sel = [func.strftime(\"%m-%d\",Measurement.date).label('date'),func.min(Measurement.tobs).label('Min'), func.avg(Measurement.tobs).label('Avg'), func.max(Measurement.tobs).label('Max')]\n",
    "    results = session.query(*sel).group_by(func.strftime(\"%m-%d\",Measurement.date)).filter(func.strftime(\"%m-%d\",Measurement.date) == date).\\\n",
    "        all()\n",
    "    results = results[0]\n",
    "    \n",
    "    print(results)\n",
    "   \n",
    "daily_normals(\"01-01\")"
   ]
  },
  {
   "cell_type": "code",
   "execution_count": 25,
   "metadata": {},
   "outputs": [
    {
     "name": "stdout",
     "output_type": "stream",
     "text": [
      "['04-09', '04-10', '04-11', '04-12', '04-13', '04-14', '04-15']\n"
     ]
    }
   ],
   "source": [
    "tripdates =[]\n",
    "date_1=dt.datetime.strptime(my_start, '%Y-%m-%d')\n",
    "date_2=dt.datetime.strptime(my_end, '%Y-%m-%d')\n",
    "for n in range(int((date_2 - date_1).days)+1):\n",
    "        dtl = (dt.datetime.strftime(date_1 + dt.timedelta(n),\"%m-%d\"))\n",
    "        tripdates.append(dtl)\n",
    "print(tripdates)\n",
    "\n",
    "# for i in (dt.datetime.strptime(my_start, '%Y-%m-%d')) to (dt.datetime.strptime(my_end, '%Y-%m-%d'))\n",
    "#     date_trp=(str(func.extract('day', i))).zfill(2)+'-'+(str(func.extract('month', i))).zfill(2)\n",
    "#     tripdates=tripdates.append.date_trp \n",
    "\n",
    "# print(tripdates)"
   ]
  },
  {
   "cell_type": "code",
   "execution_count": 27,
   "metadata": {
    "scrolled": true
   },
   "outputs": [
    {
     "data": {
      "text/html": [
       "<div>\n",
       "<style scoped>\n",
       "    .dataframe tbody tr th:only-of-type {\n",
       "        vertical-align: middle;\n",
       "    }\n",
       "\n",
       "    .dataframe tbody tr th {\n",
       "        vertical-align: top;\n",
       "    }\n",
       "\n",
       "    .dataframe thead th {\n",
       "        text-align: right;\n",
       "    }\n",
       "</style>\n",
       "<table border=\"1\" class=\"dataframe\">\n",
       "  <thead>\n",
       "    <tr style=\"text-align: right;\">\n",
       "      <th></th>\n",
       "      <th>Max</th>\n",
       "      <th>Min</th>\n",
       "      <th>Avg</th>\n",
       "    </tr>\n",
       "    <tr>\n",
       "      <th>Date</th>\n",
       "      <th></th>\n",
       "      <th></th>\n",
       "      <th></th>\n",
       "    </tr>\n",
       "  </thead>\n",
       "  <tbody>\n",
       "    <tr>\n",
       "      <th>04-09</th>\n",
       "      <td>78</td>\n",
       "      <td>62</td>\n",
       "      <td>71.614</td>\n",
       "    </tr>\n",
       "    <tr>\n",
       "      <th>04-10</th>\n",
       "      <td>79</td>\n",
       "      <td>64</td>\n",
       "      <td>71.4035</td>\n",
       "    </tr>\n",
       "    <tr>\n",
       "      <th>04-11</th>\n",
       "      <td>82</td>\n",
       "      <td>65</td>\n",
       "      <td>72.4918</td>\n",
       "    </tr>\n",
       "    <tr>\n",
       "      <th>04-12</th>\n",
       "      <td>80</td>\n",
       "      <td>65</td>\n",
       "      <td>72.2241</td>\n",
       "    </tr>\n",
       "    <tr>\n",
       "      <th>04-13</th>\n",
       "      <td>79</td>\n",
       "      <td>64</td>\n",
       "      <td>71.5254</td>\n",
       "    </tr>\n",
       "    <tr>\n",
       "      <th>04-14</th>\n",
       "      <td>81</td>\n",
       "      <td>65</td>\n",
       "      <td>72.75</td>\n",
       "    </tr>\n",
       "    <tr>\n",
       "      <th>04-15</th>\n",
       "      <td>79</td>\n",
       "      <td>61</td>\n",
       "      <td>71.7931</td>\n",
       "    </tr>\n",
       "  </tbody>\n",
       "</table>\n",
       "</div>"
      ],
      "text/plain": [
       "      Max Min      Avg\n",
       "Date                  \n",
       "04-09  78  62   71.614\n",
       "04-10  79  64  71.4035\n",
       "04-11  82  65  72.4918\n",
       "04-12  80  65  72.2241\n",
       "04-13  79  64  71.5254\n",
       "04-14  81  65    72.75\n",
       "04-15  79  61  71.7931"
      ]
     },
     "execution_count": 27,
     "metadata": {},
     "output_type": "execute_result"
    }
   ],
   "source": [
    "# calculate the daily normals for your trip\n",
    "# push each tuple of calculations into a list called `normals`\n",
    "\n",
    "# Set the start and end date of the trip\n",
    "\n",
    "# Use the start and end date to create a range of dates\n",
    "\n",
    "# Stip off the year and save a list of %m-%d strings\n",
    "\n",
    "# Loop through the list of %m-%d strings and calculate the normals for each date\n",
    "\n",
    "normals=[]\n",
    "pDAT=[]\n",
    "pMAX=[]\n",
    "pMIN=[]\n",
    "pAVG=[]\n",
    "dates = tripdates\n",
    "for date in dates:   \n",
    "    \n",
    "    MAX = session.query(func.max(Measurement.tobs).label('Max')).group_by(func.strftime(\"%m-%d\",Measurement.date)).filter(func.strftime(\"%m-%d\",Measurement.date) == date).\\\n",
    "        all()\n",
    "    MIN = session.query(func.min(Measurement.tobs).label('Min')).group_by(func.strftime(\"%m-%d\",Measurement.date)).filter(func.strftime(\"%m-%d\",Measurement.date) == date).\\\n",
    "        all()\n",
    "    AVG = session.query(func.avg(Measurement.tobs).label('Avg')).group_by(func.strftime(\"%m-%d\",Measurement.date)).filter(func.strftime(\"%m-%d\",Measurement.date) == date).\\\n",
    "        all()\n",
    "    DAT = session.query(func.strftime(\"%m-%d\",Measurement.date).label('date')).group_by(func.strftime(\"%m-%d\",Measurement.date)).filter(func.strftime(\"%m-%d\",Measurement.date) == date).\\\n",
    "        all()\n",
    "    normals=[pDAT,pMAX, pMIN, pAVG]\n",
    "    \n",
    "    pDAT.append(DAT[0][0])\n",
    "    pMAX.append(MAX[0][0])\n",
    "    pMIN.append(MIN[0][0])\n",
    "    pAVG.append(AVG[0][0])\n",
    "df_normals=pd.DataFrame(normals).transpose()\n",
    "df_normals=df_normals.rename(index=str, columns={0:\"Date\", 1:\"Max\", 2:\"Min\",3:\"Avg\"})\n",
    "df_normals=df_normals.set_index('Date')\n",
    "    \n",
    "df_normals\n",
    "# Load the previous query results into a Pandas DataFrame and add the `trip_dates` range as the `date` index\n",
    "# Daily normals"
   ]
  },
  {
   "cell_type": "code",
   "execution_count": 28,
   "metadata": {},
   "outputs": [
    {
     "data": {
      "image/png": "[encoded data removed]",
      "text/plain": [
       "<Figure size 432x288 with 1 Axes>"
      ]
     },
     "metadata": {
      "needs_background": "light"
     },
     "output_type": "display_data"
    }
   ],
   "source": [
    "# Plot the daily normals as an area plot with `stacked=False`\n",
    "# Plot\n",
    "df_normals.plot.area(stacked=False, color=[\"lightskyblue\", \"lightsalmon\", \"papayawhip\"])\n",
    "\n",
    "ax = plt.gca()\n",
    "ax.set_facecolor(\"whitesmoke\")\n",
    "\n",
    "# Format x-tick label\n",
    "locs = ax.xaxis.get_ticklocs()[1:-1]\n",
    "plt.xticks(locs, df_normals.index, rotation=45, ha=\"right\")\n",
    "\n",
    "# Other formatting\n",
    "plt.xlim((locs[0], locs[-1]))\n",
    "plt.xlabel(\"Date\")\n",
    "plt.ylabel(\"Temperature (F)\")\n",
    "plt.title(\"Temperature over time\")\n",
    "plt.grid(linestyle='-', linewidth='0.5', color='lightgrey')\n",
    "ax.set_axisbelow(True)\n"
   ]
  }
 ],
 "metadata": {
  "kernel_info": {
   "name": "python3"
  },
  "kernelspec": {
   "display_name": "Python 2",
   "language": "python",
   "name": "python2"
  },
  "language_info": {
   "codemirror_mode": {
    "name": "ipython",
    "version": 2
   },
   "file_extension": ".py",
   "mimetype": "text/x-python",
   "name": "python",
   "nbconvert_exporter": "python",
   "pygments_lexer": "ipython2",
   "version": "2.7.16"
  },
  "nteract": {
   "version": "0.12.3"
  },
  "varInspector": {
   "cols": {
    "lenName": 16,
    "lenType": 16,
    "lenVar": 40
   },
   "kernels_config": {
    "python": {
     "delete_cmd_postfix": "",
     "delete_cmd_prefix": "del ",
     "library": "var_list.py",
     "varRefreshCmd": "print(var_dic_list())"
    },
    "r": {
     "delete_cmd_postfix": ") ",
     "delete_cmd_prefix": "rm(",
     "library": "var_list.r",
     "varRefreshCmd": "cat(var_dic_list()) "
    }
   },
   "types_to_exclude": [
    "module",
    "function",
    "builtin_function_or_method",
    "instance",
    "_Feature"
   ],
   "window_display": false
  }
 },
 "nbformat": 4,
 "nbformat_minor": 2
}
